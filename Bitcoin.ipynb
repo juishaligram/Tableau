{
 "cells": [
  {
   "cell_type": "code",
   "execution_count": 12,
   "metadata": {},
   "outputs": [
    {
     "data": {
      "application/javascript": [
       "IPython.notebook.set_autosave_interval(30000)"
      ]
     },
     "metadata": {},
     "output_type": "display_data"
    },
    {
     "name": "stdout",
     "output_type": "stream",
     "text": [
      "Autosaving every 30 seconds\n"
     ]
    }
   ],
   "source": [
    "%autosave 30"
   ]
  },
  {
   "cell_type": "code",
   "execution_count": 13,
   "metadata": {},
   "outputs": [],
   "source": [
    "# print all the outputs in a cell\n",
    "from IPython.core.interactiveshell import InteractiveShell\n",
    "InteractiveShell.ast_node_interactivity = \"all\""
   ]
  },
  {
   "cell_type": "code",
   "execution_count": 14,
   "metadata": {},
   "outputs": [
    {
     "name": "stdout",
     "output_type": "stream",
     "text": [
      "RT @DanaSchwartzzz: when I'm on a date and the guy\n"
     ]
    }
   ],
   "source": [
    "#Open file and clean the data. Replace punctuations and normalize case\n",
    "tweets = open('bitcoin.txt', 'rt')\n",
    "wrd1 = tweets.read()\n",
    "tweets.close()\n",
    "print(wrd1[:50])"
   ]
  },
  {
   "cell_type": "code",
   "execution_count": 15,
   "metadata": {},
   "outputs": [
    {
     "name": "stdout",
     "output_type": "stream",
     "text": [
      "RT DanaSchwartzzz when Im on a date and the guy st\n"
     ]
    }
   ],
   "source": [
    "wrd2=wrd1.replace(\"'\",'').replace('@','').replace(',','').replace('\"','').replace('.','').replace('!','').replace('?','').replace('#','').replace(':','').replace('/','')\n",
    "print(wrd2[:50])"
   ]
  },
  {
   "cell_type": "code",
   "execution_count": 16,
   "metadata": {},
   "outputs": [
    {
     "name": "stdout",
     "output_type": "stream",
     "text": [
      "rt danaschwartzzz when im on a date and the guy st\n"
     ]
    }
   ],
   "source": [
    "#convert to lower case\n",
    "wrd3 = wrd2.lower()\n",
    "print(wrd3[:50])"
   ]
  },
  {
   "cell_type": "code",
   "execution_count": 17,
   "metadata": {},
   "outputs": [
    {
     "data": {
      "text/plain": [
       "62164"
      ]
     },
     "execution_count": 17,
     "metadata": {},
     "output_type": "execute_result"
    }
   ],
   "source": [
    "len(wrd3)"
   ]
  },
  {
   "cell_type": "code",
   "execution_count": 18,
   "metadata": {},
   "outputs": [
    {
     "name": "stdout",
     "output_type": "stream",
     "text": [
      "a\r\n",
      "about\r\n",
      "above\r\n",
      "across\r\n",
      "after\r\n",
      "again\r\n",
      "against\r\n",
      "al\n"
     ]
    }
   ],
   "source": [
    "#Open file and get the words\n",
    "stopword = open('stop.txt', 'rt')\n",
    "stoptext = stopword.read()\n",
    "stopword.close()\n",
    "print(stoptext[:50])"
   ]
  },
  {
   "cell_type": "code",
   "execution_count": 19,
   "metadata": {},
   "outputs": [
    {
     "name": "stdout",
     "output_type": "stream",
     "text": [
      "a+\r\n",
      "abound\r\n",
      "abounds\r\n",
      "abundance\r\n",
      "abundant\r\n",
      "accessab\n"
     ]
    }
   ],
   "source": [
    "#Open file and get the words\n",
    "positive = open('positive.txt', 'rt')\n",
    "ps = positive.read()\n",
    "positive.close()\n",
    "print(ps[:50])"
   ]
  },
  {
   "cell_type": "code",
   "execution_count": 20,
   "metadata": {},
   "outputs": [
    {
     "name": "stdout",
     "output_type": "stream",
     "text": [
      "2-faced\r\n",
      "2-faces\r\n",
      "abnormal\r\n",
      "abolish\r\n",
      "abominable\r\n",
      "a\n"
     ]
    }
   ],
   "source": [
    "#Open file and get the words\n",
    "negative = open('negative.txt', 'rt')\n",
    "nve = negative.read()\n",
    "negative.close()\n",
    "print(nve[:50])"
   ]
  },
  {
   "cell_type": "code",
   "execution_count": 21,
   "metadata": {},
   "outputs": [
    {
     "name": "stdout",
     "output_type": "stream",
     "text": [
      "110.0\n",
      "433\n"
     ]
    },
    {
     "data": {
      "text/plain": [
       "0.2540415704387991"
      ]
     },
     "execution_count": 21,
     "metadata": {},
     "output_type": "execute_result"
    }
   ],
   "source": [
    "#Intialise two variables to the count of the respective words\n",
    "count_positive = 0.0\n",
    "count_negative = 0\n",
    "for word in wrd3:\n",
    "    if word in stoptext:\n",
    "        continue\n",
    "    if word in ps:\n",
    "        count_positive = count_positive+1\n",
    "    if word in nve:\n",
    "        count_negative = count_negative+1\n",
    "        \n",
    "print(count_positive)\n",
    "print(count_negative)\n",
    "ratio = count_positive/count_negative\n",
    "ratio"
   ]
  }
 ],
 "metadata": {
  "kernelspec": {
   "display_name": "Python 2",
   "language": "python",
   "name": "python2"
  },
  "language_info": {
   "codemirror_mode": {
    "name": "ipython",
    "version": 2
   },
   "file_extension": ".py",
   "mimetype": "text/x-python",
   "name": "python",
   "nbconvert_exporter": "python",
   "pygments_lexer": "ipython2",
   "version": "2.7.14"
  }
 },
 "nbformat": 4,
 "nbformat_minor": 2
}
